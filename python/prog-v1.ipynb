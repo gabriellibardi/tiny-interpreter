{
 "cells": [
  {
   "cell_type": "markdown",
   "id": "7e99bb05",
   "metadata": {},
   "source": [
    "## V1 program\n",
    "\n",
    "```javascript\n",
    "var a\n",
    "a = 1\n",
    "var b\n",
    "b = 2\n",
    "```\n",
    "\n",
    "## V1 Grammar\n",
    "\n",
    "    program:     statement*\n",
    "    statement:   definition | attribution\n",
    "    definition:  \"var\" NAME\n",
    "    attribution: NAME \"=\" NUMBER"
   ]
  },
  {
   "cell_type": "markdown",
   "id": "023b7ece",
   "metadata": {},
   "source": [
    "## Analyzer"
   ]
  },
  {
   "cell_type": "code",
   "execution_count": 21,
   "id": "4c9071cc",
   "metadata": {},
   "outputs": [],
   "source": [
    "program = \"\"\"\n",
    "var a\n",
    "a = 5\n",
    "var b\n",
    "b = 6\n",
    "\"\"\""
   ]
  },
  {
   "cell_type": "code",
   "execution_count": 22,
   "id": "f9cdad3a",
   "metadata": {},
   "outputs": [
    {
     "name": "stdout",
     "output_type": "stream",
     "text": [
      "symbol_table: {'a': 0, 'b': 1}\n"
     ]
    }
   ],
   "source": [
    "import rich\n",
    "\n",
    "def analyze(p):\n",
    "    memory_adress = 0\n",
    "    for line in p.strip().split('\\n'):\n",
    "        match line.split():\n",
    "            case ['var', name]:\n",
    "                # print('definition:', name)\n",
    "                if name in symbol_table:\n",
    "                    rich.print('[red1]redefined:', name)\n",
    "                else:\n",
    "                    symbol_table[name] = memory_adress\n",
    "                    memory_adress += 1\n",
    "            case [name, '=', number]:\n",
    "                # print('attribution:', name, number)\n",
    "                if name not in symbol_table:\n",
    "                    rich.print('[red1]unknown:', name)\n",
    "            case _:\n",
    "                rich.print('[red1]unmatched:', line)\n",
    "\n",
    "symbol_table = {}\n",
    "analyze(program)\n",
    "print('symbol_table:', symbol_table)"
   ]
  },
  {
   "cell_type": "code",
   "execution_count": 23,
   "id": "26995944",
   "metadata": {},
   "outputs": [
    {
     "name": "stdout",
     "output_type": "stream",
     "text": [
      "a at address 0 receives 5\n",
      "b at address 1 receives 6\n",
      "program ended\n",
      "\n",
      "static_memory [5, 6]\n"
     ]
    }
   ],
   "source": [
    "def execute(p):\n",
    "    for line in p.strip().split('\\n'):\n",
    "        match line.split():\n",
    "            case [name, '=', number]:\n",
    "                address = symbol_table[name]\n",
    "                static_memory[address] = int(number)\n",
    "                print(name, 'at address', address, 'receives', number)\n",
    "    print('program ended\\n')\n",
    "\n",
    "static_memory = [0] * len(symbol_table)\n",
    "execute(program)\n",
    "print('static_memory', static_memory)"
   ]
  }
 ],
 "metadata": {
  "kernelspec": {
   "display_name": "venv",
   "language": "python",
   "name": "python3"
  },
  "language_info": {
   "codemirror_mode": {
    "name": "ipython",
    "version": 3
   },
   "file_extension": ".py",
   "mimetype": "text/x-python",
   "name": "python",
   "nbconvert_exporter": "python",
   "pygments_lexer": "ipython3",
   "version": "3.12.3"
  }
 },
 "nbformat": 4,
 "nbformat_minor": 5
}
