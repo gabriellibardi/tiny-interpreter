{
 "cells": [
  {
   "cell_type": "markdown",
   "id": "7e99bb05",
   "metadata": {},
   "source": [
    "## V1 program\n",
    "\n",
    "```javascript\n",
    "var a\n",
    "func f() {\n",
    "    a = 5\n",
    "    var b\n",
    "    b = 6\n",
    "}\n",
    "func g() {\n",
    "    var c\n",
    "    c = 7\n",
    "}\n",
    "f()\n",
    "g()\n",
    "```\n",
    "\n",
    "## V1 Grammar\n",
    "\n",
    "```yaml\n",
    "program: (statement | func_def)*\n",
    "statement: definition | attribution | func_call\n",
    "definition: \"var\" NAME\n",
    "attribution: NAME \"=\" NUMBER\n",
    "func_call: NAME()\n",
    "func_def: \"func\" NAME() \"{\" statement* \"}\"\n",
    "```"
   ]
  },
  {
   "cell_type": "markdown",
   "id": "023b7ece",
   "metadata": {},
   "source": [
    "## Analyzer"
   ]
  },
  {
   "cell_type": "code",
   "execution_count": 11,
   "id": "4c9071cc",
   "metadata": {},
   "outputs": [],
   "source": [
    "program = \"\"\"\n",
    "var a\n",
    "func f() {\n",
    "    a = 5\n",
    "    var b\n",
    "    b = 6\n",
    "}\n",
    "func g() {\n",
    "    var c\n",
    "    c = 7\n",
    "}\n",
    "f()\n",
    "g()\n",
    "\"\"\""
   ]
  },
  {
   "cell_type": "code",
   "execution_count": 12,
   "id": "f9cdad3a",
   "metadata": {},
   "outputs": [
    {
     "name": "stdout",
     "output_type": "stream",
     "text": [
      "symbol_table: {'a': 0, 'b': 1, 'c': 2}\n",
      "function_table: {'f()': 1, 'g()': 6}\n"
     ]
    }
   ],
   "source": [
    "import rich\n",
    "\n",
    "def analyze(p):\n",
    "    memory_adress = 0\n",
    "    for line_number, line in enumerate(p.strip().split('\\n')):\n",
    "        match line.split():\n",
    "            case ['var', name]:\n",
    "                # adicionar variável na tabela de símbolos global ou local\n",
    "                # dependendo se estiver fora \n",
    "                if name in symbol_table:\n",
    "                    # variáveis locais não podem ter o mesmo nome de globais\n",
    "                    rich.print('[red1]redefined:', name)\n",
    "                else:\n",
    "                    # o endereço de variáveis locais não interessa (colocar 42)\n",
    "                    symbol_table[name] = memory_adress\n",
    "                    memory_adress += 1\n",
    "            case [name, '=', number]:\n",
    "                # a atribuição é válida para variáveis globais ou para locais\n",
    "                if name not in symbol_table:\n",
    "                    rich.print('[red1]variable unknown:', name)\n",
    "            case ['func', name, '{']:\n",
    "                if name in function_table:\n",
    "                    rich.print('[red1]function redefined:', name)\n",
    "                else:\n",
    "                    function_table[name] = line_number\n",
    "            case ['}']:\n",
    "                pass\n",
    "            case [name] if name.endswith('()'):\n",
    "                if name not in function_table:\n",
    "                    rich.print('[red1]function unknown:', name)\n",
    "            case _:\n",
    "                rich.print('[red1]unmatched:', line)\n",
    "\n",
    "symbol_table = {}\n",
    "function_table = {}\n",
    "analyze(program)\n",
    "print('symbol_table:', symbol_table)\n",
    "print('function_table:', function_table)"
   ]
  },
  {
   "cell_type": "code",
   "execution_count": 13,
   "id": "26995944",
   "metadata": {},
   "outputs": [
    {
     "name": "stdout",
     "output_type": "stream",
     "text": [
      "f() called in line 10\n",
      "a at address 0 receives 5\n",
      "b at address 1 receives 6\n",
      "return to line 10\n",
      "g() called in line 11\n",
      "c at address 2 receives 7\n",
      "return to line 11\n",
      "program ended\n",
      "\n",
      "static_memory [5, 6, 7]\n",
      "call_stack []\n"
     ]
    }
   ],
   "source": [
    "def execute(p):\n",
    "    pc = 0 # program counter\n",
    "    lines = p.strip().split('\\n')\n",
    "    while pc < len(lines):\n",
    "        match lines[pc].split():\n",
    "            case ['var', name]:\n",
    "                # se for definição local\n",
    "                #     incrementa pilha (memory.append(0))\n",
    "                #     adiciona name no quadro de ativação atual com endereço do topo da pilha\n",
    "                pass\n",
    "            case [name, '=', number]:\n",
    "                # atribuição em variável global ou local?\n",
    "                address = symbol_table[name]\n",
    "                static_memory[address] = int(number)\n",
    "                print(name, 'at address', address, 'receives', number)\n",
    "            case ['func', name, '{']:\n",
    "                while lines[pc] != '}':\n",
    "                    pc += 1\n",
    "            case [name] if name.endswith('()'):\n",
    "                call_stack.append(pc)\n",
    "                print(name, 'called in line', pc)\n",
    "                pc = function_table[name]\n",
    "            case ['}']:\n",
    "                # para o último quadro de ativação:\n",
    "                #     limpar a parte de variáveis locais da memória\n",
    "                #     eliminar último quadro de ativação\n",
    "                pc = call_stack.pop()\n",
    "                print('return to line', pc)\n",
    "        pc += 1\n",
    "    print('program ended\\n')\n",
    "\n",
    "# reutilizar a tabela de símbolos local para controle das variáveis automáticas\n",
    "call_stack = []\n",
    "static_memory = [0] * len(symbol_table) # tamanho pré-alocado é para as variáveis globais apenas\n",
    "execute(program)\n",
    "print('static_memory', static_memory)\n",
    "print('call_stack', call_stack)"
   ]
  }
 ],
 "metadata": {
  "kernelspec": {
   "display_name": "venv",
   "language": "python",
   "name": "python3"
  },
  "language_info": {
   "codemirror_mode": {
    "name": "ipython",
    "version": 3
   },
   "file_extension": ".py",
   "mimetype": "text/x-python",
   "name": "python",
   "nbconvert_exporter": "python",
   "pygments_lexer": "ipython3",
   "version": "3.12.3"
  }
 },
 "nbformat": 4,
 "nbformat_minor": 5
}
